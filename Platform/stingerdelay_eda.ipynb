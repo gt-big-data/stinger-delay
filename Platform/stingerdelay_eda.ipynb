{
  "nbformat": 4,
  "nbformat_minor": 0,
  "metadata": {
    "colab": {
      "provenance": []
    },
    "kernelspec": {
      "name": "python3",
      "display_name": "Python 3"
    },
    "language_info": {
      "name": "python"
    }
  },
  "cells": [
    {
      "cell_type": "markdown",
      "source": [
        "**Section 1: Imports and DB connection setup**"
      ],
      "metadata": {
        "id": "CyPIBVMSHqPc"
      }
    },
    {
      "cell_type": "code",
      "source": [],
      "metadata": {
        "id": "yjwrq4-lHxiX"
      },
      "execution_count": null,
      "outputs": []
    },
    {
      "cell_type": "markdown",
      "source": [
        "**Section 2: Data extraction**\n"
      ],
      "metadata": {
        "id": "1d5S1cjmHw6D"
      }
    },
    {
      "cell_type": "code",
      "source": [],
      "metadata": {
        "id": "TCtRhCwzH43C"
      },
      "execution_count": null,
      "outputs": []
    },
    {
      "cell_type": "markdown",
      "source": [
        "**Section 3: Overview**\n",
        "\n",
        "*   For every table\n",
        "*   Use pandas head() and info()\n",
        "*   Percantage of null values for each column\n",
        "*   Shape\n",
        "*   Any additional overview that could be useful\n",
        "\n"
      ],
      "metadata": {
        "id": "B3mZRw6GH5ZS"
      }
    },
    {
      "cell_type": "code",
      "source": [],
      "metadata": {
        "id": "D_GAMbnCJHLN"
      },
      "execution_count": null,
      "outputs": []
    },
    {
      "cell_type": "markdown",
      "source": [
        "**Section 4: Visual Analysis**"
      ],
      "metadata": {
        "id": "zq556TH8Jh-u"
      }
    },
    {
      "cell_type": "code",
      "source": [],
      "metadata": {
        "id": "OcbamqAUJ2YC"
      },
      "execution_count": null,
      "outputs": []
    },
    {
      "cell_type": "markdown",
      "source": [
        "**Section 5: Notes and findings**"
      ],
      "metadata": {
        "id": "dT3ZactwJnXc"
      }
    },
    {
      "cell_type": "markdown",
      "source": [],
      "metadata": {
        "id": "JmFW20JGJ3oT"
      }
    }
  ]
}